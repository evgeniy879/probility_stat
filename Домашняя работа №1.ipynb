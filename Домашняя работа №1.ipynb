{
 "cells": [
  {
   "cell_type": "code",
   "execution_count": 2,
   "metadata": {},
   "outputs": [],
   "source": [
    "from math import factorial"
   ]
  },
  {
   "cell_type": "markdown",
   "metadata": {},
   "source": [
    "#### Из колоды в 52 карты извлекаются случайным образом 4 карты:\n",
    "    a) Найти вероятность того, что все карты – крести"
   ]
  },
  {
   "cell_type": "code",
   "execution_count": 3,
   "metadata": {},
   "outputs": [
    {
     "name": "stdout",
     "output_type": "stream",
     "text": [
      "Вероятность того, что все карты крести составляет 0.0026410564225690276\n"
     ]
    }
   ],
   "source": [
    "probility = 13/52 * 12/51 * 11/50 * 10/49\n",
    "print(f'Вероятность того, что все карты крести составляет {probility}')"
   ]
  },
  {
   "cell_type": "markdown",
   "metadata": {},
   "source": [
    "    б) Найти вероятность, что среди 4-х карт окажется хотя бы один туз."
   ]
  },
  {
   "cell_type": "code",
   "execution_count": 3,
   "metadata": {},
   "outputs": [
    {
     "name": "stdout",
     "output_type": "stream",
     "text": [
      "Oбщее количество комбинаций из 4 карт 270725\n"
     ]
    }
   ],
   "source": [
    "total = int(factorial(52)/(factorial(4)*factorial(52-4)))\n",
    "print(f'Oбщее количество комбинаций из 4 карт {total}')"
   ]
  },
  {
   "cell_type": "code",
   "execution_count": 4,
   "metadata": {},
   "outputs": [
    {
     "name": "stdout",
     "output_type": "stream",
     "text": [
      "Oбщее количество комбинаций состоящих из 1 туза и 3 карт \"не туз\"  69184\n"
     ]
    }
   ],
   "source": [
    "ace_1 = int(factorial(4)/(factorial(1)*factorial(4-1))) * int(factorial(48)/(factorial(3)*factorial(48-3)))\n",
    "print(f'Oбщее количество комбинаций состоящих из 1 туза и 3 карт \"не туз\"  {ace_1}')"
   ]
  },
  {
   "cell_type": "code",
   "execution_count": 5,
   "metadata": {},
   "outputs": [
    {
     "name": "stdout",
     "output_type": "stream",
     "text": [
      "Oбщее количество комбинаций состоящих из 2 тузов и 2 карт \"не туз\"  6768\n"
     ]
    }
   ],
   "source": [
    "ace_2 = int(factorial(4)/(factorial(2)*factorial(4-2))) * int(factorial(48)/(factorial(2)*factorial(48-2)))\n",
    "print(f'Oбщее количество комбинаций состоящих из 2 тузов и 2 карт \"не туз\"  {ace_2}')"
   ]
  },
  {
   "cell_type": "code",
   "execution_count": 6,
   "metadata": {},
   "outputs": [
    {
     "name": "stdout",
     "output_type": "stream",
     "text": [
      "Oбщее количество комбинаций состоящих из 3 тузов и 1 карт \"не туз\"  192\n"
     ]
    }
   ],
   "source": [
    "ace_3 = int(factorial(4)/(factorial(3)*factorial(4-3))) * int(factorial(48)/(factorial(1)*factorial(48-1)))\n",
    "print(f'Oбщее количество комбинаций состоящих из 3 тузов и 1 карт \"не туз\"  {ace_3}')"
   ]
  },
  {
   "cell_type": "code",
   "execution_count": 7,
   "metadata": {},
   "outputs": [
    {
     "name": "stdout",
     "output_type": "stream",
     "text": [
      "Oбщее количество комбинаций состоящих из 3 тузов и 1 карт \"не туз\"  192\n"
     ]
    }
   ],
   "source": [
    "ace_4 = int(factorial(4)/(factorial(3)*factorial(4-3))) * int(factorial(48)/(factorial(1)*factorial(48-1)))\n",
    "print(f'Oбщее количество комбинаций состоящих из 3 тузов и 1 карт \"не туз\"  {ace_3}')"
   ]
  },
  {
   "cell_type": "code",
   "execution_count": 8,
   "metadata": {},
   "outputs": [
    {
     "name": "stdout",
     "output_type": "stream",
     "text": [
      "Oбщее количество комбинаций, в которых есть хотябы 1 туз  76336\n"
     ]
    }
   ],
   "source": [
    "total_ace = ace_1 + ace_2 + ace_3 + ace_4\n",
    "print(f'Oбщее количество комбинаций, в которых есть хотябы 1 туз  {total_ace}')"
   ]
  },
  {
   "cell_type": "code",
   "execution_count": 10,
   "metadata": {},
   "outputs": [
    {
     "name": "stdout",
     "output_type": "stream",
     "text": [
      "Вероятность что среди 4-х карт окажется хотя бы один туз 0.281968787515006\n"
     ]
    }
   ],
   "source": [
    "probility = total_ace / total\n",
    "print(f'Вероятность что среди 4-х карт окажется хотя бы один туз {probility}')"
   ]
  },
  {
   "cell_type": "markdown",
   "metadata": {},
   "source": [
    "#### На входной двери подъезда установлен кодовый замок, содержащий десять кнопок с цифрами от 0 до 9. Код содержит три цифры, которые нужно нажать одновременно. Какова вероятность того, что человек, не знающий код, откроет дверь с первой попытки"
   ]
  },
  {
   "cell_type": "code",
   "execution_count": 13,
   "metadata": {},
   "outputs": [
    {
     "name": "stdout",
     "output_type": "stream",
     "text": [
      "Вероятность того, что откроется дверь с первой попытки 0.008333333333333333\n"
     ]
    }
   ],
   "source": [
    "total_combination = int(factorial(10)/(factorial(3) * factorial(10-3)))\n",
    "probility_lock = 1 / total_combination\n",
    "print(f'Вероятность того, что откроется дверь с первой попытки {probility_lock}')"
   ]
  },
  {
   "cell_type": "markdown",
   "metadata": {},
   "source": [
    "#### В ящике имеется 15 деталей, из которых 9 окрашены. Рабочий случайным образом извлекает 3 детали. Какова вероятность того, что все извлеченные детали окрашены?"
   ]
  },
  {
   "cell_type": "code",
   "execution_count": 14,
   "metadata": {},
   "outputs": [
    {
     "name": "stdout",
     "output_type": "stream",
     "text": [
      "Вероятность того, что все извлеченные детали окрашены 0.1846153846153846\n"
     ]
    }
   ],
   "source": [
    "probility_15 = 9/15 * 8/14 * 7/13\n",
    "print(f'Вероятность того, что все извлеченные детали окрашены {probility_15}')"
   ]
  },
  {
   "cell_type": "markdown",
   "metadata": {},
   "source": [
    "#### В лотерее 100 билетов. Из них 2 выигрышных. Какова вероятность того, что 2 приобретенных билета окажутся выигрышными?"
   ]
  },
  {
   "cell_type": "code",
   "execution_count": 15,
   "metadata": {},
   "outputs": [
    {
     "name": "stdout",
     "output_type": "stream",
     "text": [
      "Вероятность того,  2 приобретенных билета окажутся выигрышными 0.00020202020202020202\n"
     ]
    }
   ],
   "source": [
    "probility_lotery = 2/100 * 1/99\n",
    "print(f'Вероятность того,  2 приобретенных билета окажутся выигрышными {probility_lotery}')"
   ]
  }
 ],
 "metadata": {
  "kernelspec": {
   "display_name": "Python 3",
   "language": "python",
   "name": "python3"
  },
  "language_info": {
   "codemirror_mode": {
    "name": "ipython",
    "version": 3
   },
   "file_extension": ".py",
   "mimetype": "text/x-python",
   "name": "python",
   "nbconvert_exporter": "python",
   "pygments_lexer": "ipython3",
   "version": "3.8.3"
  }
 },
 "nbformat": 4,
 "nbformat_minor": 4
}
